{
 "cells": [
  {
   "cell_type": "code",
   "execution_count": 8,
   "metadata": {},
   "outputs": [],
   "source": [
    "import torch\n",
    "import os\n",
    "import numpy as np\n",
    "import pandas as pd\n",
    "import matplotlib.pyplot as plt\n",
    "import seaborn as sns \n",
    "import time\n",
    "from sklearn.preprocessing import StandardScaler\n",
    "from sklearn import metrics\n",
    "from typing import Iterable\n",
    "from matplotlib.ticker import (MultipleLocator, AutoMinorLocator)\n",
    "from joblib import dump, load\n",
    "\n",
    "import torch.nn as nn\n",
    "import torch.nn.functional as F\n",
    "import torch.optim as optim\n",
    "from torch.utils.data import DataLoader, TensorDataset\n",
    "from torch import Tensor\n",
    "import sys"
   ]
  },
  {
   "cell_type": "code",
   "execution_count": 2,
   "metadata": {},
   "outputs": [],
   "source": [
    "site = 'C'"
   ]
  },
  {
   "cell_type": "code",
   "execution_count": 3,
   "metadata": {},
   "outputs": [],
   "source": [
    "# load the data\n",
    "data_pretrain = pd.read_csv(\"data_pretrain.csv\", index_col = 0)"
   ]
  },
  {
   "cell_type": "code",
   "execution_count": 4,
   "metadata": {},
   "outputs": [
    {
     "data": {
      "text/html": [
       "<div>\n",
       "<style scoped>\n",
       "    .dataframe tbody tr th:only-of-type {\n",
       "        vertical-align: middle;\n",
       "    }\n",
       "\n",
       "    .dataframe tbody tr th {\n",
       "        vertical-align: top;\n",
       "    }\n",
       "\n",
       "    .dataframe thead th {\n",
       "        text-align: right;\n",
       "    }\n",
       "</style>\n",
       "<table border=\"1\" class=\"dataframe\">\n",
       "  <thead>\n",
       "    <tr style=\"text-align: right;\">\n",
       "      <th></th>\n",
       "      <th>ts</th>\n",
       "      <th>Month</th>\n",
       "      <th>Day</th>\n",
       "      <th>Hour</th>\n",
       "      <th>Wind_speed</th>\n",
       "      <th>Power</th>\n",
       "    </tr>\n",
       "  </thead>\n",
       "  <tbody>\n",
       "    <tr>\n",
       "      <th>833209</th>\n",
       "      <td>2020-10-02 12:40:00</td>\n",
       "      <td>10</td>\n",
       "      <td>2</td>\n",
       "      <td>12</td>\n",
       "      <td>4.105613</td>\n",
       "      <td>119.505319</td>\n",
       "    </tr>\n",
       "    <tr>\n",
       "      <th>1106030</th>\n",
       "      <td>2020-12-31 18:00:00</td>\n",
       "      <td>12</td>\n",
       "      <td>31</td>\n",
       "      <td>18</td>\n",
       "      <td>6.207758</td>\n",
       "      <td>557.367019</td>\n",
       "    </tr>\n",
       "    <tr>\n",
       "      <th>920079</th>\n",
       "      <td>2020-10-31 06:10:00</td>\n",
       "      <td>10</td>\n",
       "      <td>31</td>\n",
       "      <td>6</td>\n",
       "      <td>9.881521</td>\n",
       "      <td>1729.557973</td>\n",
       "    </tr>\n",
       "    <tr>\n",
       "      <th>961760</th>\n",
       "      <td>2020-11-14 01:00:00</td>\n",
       "      <td>11</td>\n",
       "      <td>14</td>\n",
       "      <td>1</td>\n",
       "      <td>3.161118</td>\n",
       "      <td>53.208484</td>\n",
       "    </tr>\n",
       "    <tr>\n",
       "      <th>1063967</th>\n",
       "      <td>2020-12-17 20:10:00</td>\n",
       "      <td>12</td>\n",
       "      <td>17</td>\n",
       "      <td>20</td>\n",
       "      <td>6.602096</td>\n",
       "      <td>619.559627</td>\n",
       "    </tr>\n",
       "    <tr>\n",
       "      <th>...</th>\n",
       "      <td>...</td>\n",
       "      <td>...</td>\n",
       "      <td>...</td>\n",
       "      <td>...</td>\n",
       "      <td>...</td>\n",
       "      <td>...</td>\n",
       "    </tr>\n",
       "    <tr>\n",
       "      <th>231566</th>\n",
       "      <td>2020-03-17 13:40:00</td>\n",
       "      <td>3</td>\n",
       "      <td>17</td>\n",
       "      <td>13</td>\n",
       "      <td>5.837118</td>\n",
       "      <td>504.083042</td>\n",
       "    </tr>\n",
       "    <tr>\n",
       "      <th>359441</th>\n",
       "      <td>2020-04-28 20:40:00</td>\n",
       "      <td>4</td>\n",
       "      <td>28</td>\n",
       "      <td>20</td>\n",
       "      <td>3.836594</td>\n",
       "      <td>95.733216</td>\n",
       "    </tr>\n",
       "    <tr>\n",
       "      <th>138565</th>\n",
       "      <td>2020-02-15 19:40:00</td>\n",
       "      <td>2</td>\n",
       "      <td>15</td>\n",
       "      <td>19</td>\n",
       "      <td>10.242734</td>\n",
       "      <td>1738.390444</td>\n",
       "    </tr>\n",
       "    <tr>\n",
       "      <th>376609</th>\n",
       "      <td>2020-05-04 12:50:00</td>\n",
       "      <td>5</td>\n",
       "      <td>4</td>\n",
       "      <td>12</td>\n",
       "      <td>5.450000</td>\n",
       "      <td>270.540009</td>\n",
       "    </tr>\n",
       "    <tr>\n",
       "      <th>821044</th>\n",
       "      <td>2020-09-28 12:10:00</td>\n",
       "      <td>9</td>\n",
       "      <td>28</td>\n",
       "      <td>12</td>\n",
       "      <td>3.848973</td>\n",
       "      <td>122.025400</td>\n",
       "    </tr>\n",
       "  </tbody>\n",
       "</table>\n",
       "<p>200000 rows × 6 columns</p>\n",
       "</div>"
      ],
      "text/plain": [
       "                          ts  Month  Day  Hour  Wind_speed        Power\n",
       "833209   2020-10-02 12:40:00     10    2    12    4.105613   119.505319\n",
       "1106030  2020-12-31 18:00:00     12   31    18    6.207758   557.367019\n",
       "920079   2020-10-31 06:10:00     10   31     6    9.881521  1729.557973\n",
       "961760   2020-11-14 01:00:00     11   14     1    3.161118    53.208484\n",
       "1063967  2020-12-17 20:10:00     12   17    20    6.602096   619.559627\n",
       "...                      ...    ...  ...   ...         ...          ...\n",
       "231566   2020-03-17 13:40:00      3   17    13    5.837118   504.083042\n",
       "359441   2020-04-28 20:40:00      4   28    20    3.836594    95.733216\n",
       "138565   2020-02-15 19:40:00      2   15    19   10.242734  1738.390444\n",
       "376609   2020-05-04 12:50:00      5    4    12    5.450000   270.540009\n",
       "821044   2020-09-28 12:10:00      9   28    12    3.848973   122.025400\n",
       "\n",
       "[200000 rows x 6 columns]"
      ]
     },
     "execution_count": 4,
     "metadata": {},
     "output_type": "execute_result"
    }
   ],
   "source": [
    "data_pretrain"
   ]
  },
  {
   "cell_type": "code",
   "execution_count": 5,
   "metadata": {},
   "outputs": [],
   "source": [
    "# load normalization function \n",
    "scaler1 = load('scaler1.bin')\n",
    "scaler2 = load('scaler2.bin')"
   ]
  },
  {
   "cell_type": "markdown",
   "metadata": {},
   "source": [
    "### Define network"
   ]
  },
  {
   "cell_type": "code",
   "execution_count": 6,
   "metadata": {},
   "outputs": [],
   "source": [
    "class Net(nn.Module):\n",
    "    def __init__(self, dims: Iterable[int], output_activation: nn.Module = None):\n",
    "        \"\"\"Creates a network using ReLUs between layers and no activation at the end\n",
    "\n",
    "        :param dims (Iterable[int]): tuple in the form of (IN_SIZE, HIDDEN_SIZE, HIDDEN_SIZE2,\n",
    "            ..., OUT_SIZE) for dimensionalities of layers\n",
    "        :param output_activation (nn.Module): PyTorch activation function to use after last layer\n",
    "        \"\"\"\n",
    "        super().__init__()\n",
    "        self.input_size = dims[0]\n",
    "        self.out_size = dims[-1]\n",
    "        self.layers = self.make_seq(dims, output_activation)\n",
    "\n",
    "    @staticmethod\n",
    "    def make_seq(dims: Iterable[int], output_activation: nn.Module) -> nn.Module:\n",
    "        \"\"\"Creates a sequential network using ReLUs between layers and no activation at the end\n",
    "\n",
    "        :param dims (Iterable[int]): tuple in the form of (IN_SIZE, HIDDEN_SIZE, HIDDEN_SIZE2,\n",
    "            ..., OUT_SIZE) for dimensionalities of layers\n",
    "        :param output_activation (nn.Module): PyTorch activation function to use after last layer\n",
    "        :return (nn.Module): return created sequential layers\n",
    "        \"\"\"\n",
    "        mods = []\n",
    "\n",
    "        for i in range(len(dims) - 2):\n",
    "            mods.append(nn.Linear(dims[i], dims[i + 1]))\n",
    "            mods.append(nn.ReLU())\n",
    "\n",
    "        mods.append(nn.Linear(dims[-2], dims[-1]))\n",
    "        if output_activation:\n",
    "            mods.append(output_activation())\n",
    "        return nn.Sequential(*mods)\n",
    "    \n",
    "    def forward(self, x: Tensor) -> Tensor:\n",
    "        \"\"\"Computes a forward pass through the network\n",
    "\n",
    "        :param x (torch.Tensor): input tensor to feed into the network\n",
    "        :return (torch.Tensor): output computed by the network\n",
    "        \"\"\"\n",
    "        # Feedforward\n",
    "        return self.layers(x)\n"
   ]
  },
  {
   "cell_type": "code",
   "execution_count": 7,
   "metadata": {},
   "outputs": [],
   "source": [
    "def train(X, y, quantile, net, lr, batch_size, epoch):    \n",
    "    \n",
    "    # create tensor dataset\n",
    "    train = TensorDataset(Tensor(X), Tensor(y))\n",
    "\n",
    "    # create data loader from dataset\n",
    "    trainset = DataLoader(train, batch_size = batch_size, shuffle = True)\n",
    "\n",
    "    # define optimizer\n",
    "    optimizer = optim.Adam(net.parameters(), lr = lr)\n",
    "        \n",
    "    mse_loss = nn.MSELoss()\n",
    "\n",
    "    for ep in range(epoch):\n",
    "\n",
    "        for t in trainset:\n",
    "            X_temp, y_temp = t\n",
    "            output = net(X_temp)\n",
    "            residual = y_temp - output\n",
    "            loss = Tensor.max(quantile*residual, (quantile-1)*residual).mean()\n",
    "            optimizer.zero_grad()\n",
    "            loss.backward()\n",
    "            optimizer.step()\n",
    "            \n",
    "    return net, net.state_dict()"
   ]
  },
  {
   "cell_type": "markdown",
   "metadata": {},
   "source": [
    "### Pretraining"
   ]
  },
  {
   "cell_type": "code",
   "execution_count": 11,
   "metadata": {},
   "outputs": [],
   "source": [
    "# load hyperparameters\n",
    "model = torch.load(sys.path[0] + '/hparams.pth')"
   ]
  },
  {
   "cell_type": "code",
   "execution_count": 11,
   "metadata": {},
   "outputs": [],
   "source": [
    "# # define quantiles and hyperparameters\n",
    "q_median = 0.5\n",
    "q_upper = 0.975\n",
    "q_lower = 0.025\n",
    "# dims = model['dims']\n",
    "dims = (1, 16, 16, 16, 16, 1)\n",
    "lr = model['lr']\n",
    "batch_size = int(model['batch_size'])\n",
    "epoch = model['epoch']"
   ]
  },
  {
   "cell_type": "code",
   "execution_count": 12,
   "metadata": {},
   "outputs": [
    {
     "name": "stdout",
     "output_type": "stream",
     "text": [
      "lr: 0.005\n",
      "batch size: 1000\n",
      "epoch: 20\n"
     ]
    }
   ],
   "source": [
    "print(\"lr:\", lr)\n",
    "print(\"batch size:\", batch_size)\n",
    "print(\"epoch:\", epoch)"
   ]
  },
  {
   "cell_type": "code",
   "execution_count": 13,
   "metadata": {},
   "outputs": [],
   "source": [
    "net_median = Net(dims = dims)\n",
    "net_upper = Net(dims = dims)\n",
    "net_lower = Net(dims = dims)"
   ]
  },
  {
   "cell_type": "code",
   "execution_count": 14,
   "metadata": {},
   "outputs": [
    {
     "data": {
      "text/html": [
       "<div>\n",
       "<style scoped>\n",
       "    .dataframe tbody tr th:only-of-type {\n",
       "        vertical-align: middle;\n",
       "    }\n",
       "\n",
       "    .dataframe tbody tr th {\n",
       "        vertical-align: top;\n",
       "    }\n",
       "\n",
       "    .dataframe thead th {\n",
       "        text-align: right;\n",
       "    }\n",
       "</style>\n",
       "<table border=\"1\" class=\"dataframe\">\n",
       "  <thead>\n",
       "    <tr style=\"text-align: right;\">\n",
       "      <th></th>\n",
       "      <th>Wind_speed</th>\n",
       "    </tr>\n",
       "  </thead>\n",
       "  <tbody>\n",
       "    <tr>\n",
       "      <th>833209</th>\n",
       "      <td>4.105613</td>\n",
       "    </tr>\n",
       "    <tr>\n",
       "      <th>1106030</th>\n",
       "      <td>6.207758</td>\n",
       "    </tr>\n",
       "    <tr>\n",
       "      <th>920079</th>\n",
       "      <td>9.881521</td>\n",
       "    </tr>\n",
       "    <tr>\n",
       "      <th>961760</th>\n",
       "      <td>3.161118</td>\n",
       "    </tr>\n",
       "    <tr>\n",
       "      <th>1063967</th>\n",
       "      <td>6.602096</td>\n",
       "    </tr>\n",
       "    <tr>\n",
       "      <th>...</th>\n",
       "      <td>...</td>\n",
       "    </tr>\n",
       "    <tr>\n",
       "      <th>231566</th>\n",
       "      <td>5.837118</td>\n",
       "    </tr>\n",
       "    <tr>\n",
       "      <th>359441</th>\n",
       "      <td>3.836594</td>\n",
       "    </tr>\n",
       "    <tr>\n",
       "      <th>138565</th>\n",
       "      <td>10.242734</td>\n",
       "    </tr>\n",
       "    <tr>\n",
       "      <th>376609</th>\n",
       "      <td>5.450000</td>\n",
       "    </tr>\n",
       "    <tr>\n",
       "      <th>821044</th>\n",
       "      <td>3.848973</td>\n",
       "    </tr>\n",
       "  </tbody>\n",
       "</table>\n",
       "<p>200000 rows × 1 columns</p>\n",
       "</div>"
      ],
      "text/plain": [
       "         Wind_speed\n",
       "833209     4.105613\n",
       "1106030    6.207758\n",
       "920079     9.881521\n",
       "961760     3.161118\n",
       "1063967    6.602096\n",
       "...             ...\n",
       "231566     5.837118\n",
       "359441     3.836594\n",
       "138565    10.242734\n",
       "376609     5.450000\n",
       "821044     3.848973\n",
       "\n",
       "[200000 rows x 1 columns]"
      ]
     },
     "execution_count": 14,
     "metadata": {},
     "output_type": "execute_result"
    }
   ],
   "source": [
    "data_pretrain.iloc[:, 4:-1]"
   ]
  },
  {
   "cell_type": "code",
   "execution_count": 15,
   "metadata": {},
   "outputs": [],
   "source": [
    "# normalize data\n",
    "X_pretrain = scaler1.transform(data_pretrain.iloc[:, 4:-1])\n",
    "y_pretrain = scaler2.transform(data_pretrain.iloc[:, -1:])"
   ]
  },
  {
   "cell_type": "code",
   "execution_count": 16,
   "metadata": {},
   "outputs": [
    {
     "name": "stdout",
     "output_type": "stream",
     "text": [
      "Wall time: 2min 6s\n"
     ]
    }
   ],
   "source": [
    "%%time\n",
    "# Train\n",
    "net_median, median_state_dict = train(X=X_pretrain, y=y_pretrain, quantile=q_median, net=net_median, \n",
    "                                     lr=lr, batch_size=batch_size, epoch=epoch)\n",
    "net_upper, UQ_state_dict = train(X=X_pretrain, y=y_pretrain, quantile=q_upper, net=net_upper, \n",
    "                                 lr=lr, batch_size=batch_size, epoch=epoch)\n",
    "net_lower, LQ_state_dict = train(X=X_pretrain, y=y_pretrain, quantile=q_lower, net=net_lower, \n",
    "                                 lr=lr, batch_size=batch_size, epoch=epoch)"
   ]
  },
  {
   "cell_type": "markdown",
   "metadata": {},
   "source": [
    "### Save trained network"
   ]
  },
  {
   "cell_type": "code",
   "execution_count": 17,
   "metadata": {},
   "outputs": [],
   "source": [
    "# create dictionary to store the trained weights\n",
    "pretrain_state_dict = {'median': net_median.state_dict(), \n",
    "                       'UQ': net_upper.state_dict(),\n",
    "                       'LQ': net_lower.state_dict()}"
   ]
  },
  {
   "cell_type": "code",
   "execution_count": 20,
   "metadata": {},
   "outputs": [],
   "source": [
    "# torch.save(pretrain_state_dict, sys.path[0]'/pretrain.pth')"
   ]
  },
  {
   "cell_type": "code",
   "execution_count": null,
   "metadata": {},
   "outputs": [],
   "source": []
  }
 ],
 "metadata": {
  "kernelspec": {
   "display_name": "Python 3",
   "language": "python",
   "name": "python3"
  },
  "language_info": {
   "codemirror_mode": {
    "name": "ipython",
    "version": 3
   },
   "file_extension": ".py",
   "mimetype": "text/x-python",
   "name": "python",
   "nbconvert_exporter": "python",
   "pygments_lexer": "ipython3",
   "version": "3.8.3"
  }
 },
 "nbformat": 4,
 "nbformat_minor": 4
}
