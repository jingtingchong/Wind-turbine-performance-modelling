{
 "cells": [
  {
   "cell_type": "code",
   "execution_count": 1,
   "metadata": {},
   "outputs": [],
   "source": [
    "import numpy as np \n",
    "import pandas as pd\n",
    "import matplotlib.pyplot as plt\n",
    "import seaborn as sns\n",
    "import os\n",
    "from sklearn.ensemble import RandomForestRegressor\n",
    "import time\n",
    "import warnings # prevent warnings\n",
    "import joblib"
   ]
  },
  {
   "cell_type": "code",
   "execution_count": 2,
   "metadata": {},
   "outputs": [],
   "source": [
    "site = 'C'"
   ]
  },
  {
   "cell_type": "code",
   "execution_count": 3,
   "metadata": {},
   "outputs": [],
   "source": [
    "import sys\n",
    "\n",
    "# load the data\n",
    "# get parent directory\n",
    "os.chdir(\"../..\")\n",
    "data_directory = 'Data_clean'\n",
    "data_name = site + '_data_clean.csv'\n",
    "\n",
    "data_all = pd.read_csv(os.path.join(os.getcwd(), data_directory, data_name), index_col = 0)\n",
    "\n",
    "# reset to current directory\n",
    "fd = sys.path[0]\n",
    "os.chdir(fd)"
   ]
  },
  {
   "cell_type": "code",
   "execution_count": 4,
   "metadata": {},
   "outputs": [],
   "source": [
    "# drop irrelevant columns\n",
    "data_all = data_all.drop(columns = ['Wind_speed_sd', 'Temperature'])"
   ]
  },
  {
   "cell_type": "code",
   "execution_count": 5,
   "metadata": {},
   "outputs": [],
   "source": [
    "# define training size and thus number of samples per turbine\n",
    "train_size = 10000"
   ]
  },
  {
   "cell_type": "code",
   "execution_count": 6,
   "metadata": {},
   "outputs": [],
   "source": [
    "# sample data \n",
    "data_train = data_all.groupby('instanceID', group_keys=False).apply(lambda x: x.sample(train_size, \n",
    "                                                                                 random_state = 22))\n",
    "\n",
    "data_train.to_csv('data_train.csv')"
   ]
  },
  {
   "cell_type": "code",
   "execution_count": 7,
   "metadata": {},
   "outputs": [
    {
     "data": {
      "text/html": [
       "<div>\n",
       "<style scoped>\n",
       "    .dataframe tbody tr th:only-of-type {\n",
       "        vertical-align: middle;\n",
       "    }\n",
       "\n",
       "    .dataframe tbody tr th {\n",
       "        vertical-align: top;\n",
       "    }\n",
       "\n",
       "    .dataframe thead th {\n",
       "        text-align: right;\n",
       "    }\n",
       "</style>\n",
       "<table border=\"1\" class=\"dataframe\">\n",
       "  <thead>\n",
       "    <tr style=\"text-align: right;\">\n",
       "      <th></th>\n",
       "      <th>ts</th>\n",
       "      <th>Month</th>\n",
       "      <th>Day</th>\n",
       "      <th>Hour</th>\n",
       "      <th>instanceID</th>\n",
       "      <th>Wind_speed</th>\n",
       "      <th>TI</th>\n",
       "      <th>Power</th>\n",
       "    </tr>\n",
       "  </thead>\n",
       "  <tbody>\n",
       "    <tr>\n",
       "      <th>395052</th>\n",
       "      <td>2020-05-10 15:20:00</td>\n",
       "      <td>5</td>\n",
       "      <td>10</td>\n",
       "      <td>15</td>\n",
       "      <td>C_WTG01</td>\n",
       "      <td>7.900000</td>\n",
       "      <td>24.246294</td>\n",
       "      <td>1161.069946</td>\n",
       "    </tr>\n",
       "    <tr>\n",
       "      <th>489027</th>\n",
       "      <td>2020-06-10 17:10:00</td>\n",
       "      <td>6</td>\n",
       "      <td>10</td>\n",
       "      <td>17</td>\n",
       "      <td>C_WTG01</td>\n",
       "      <td>6.137338</td>\n",
       "      <td>11.976684</td>\n",
       "      <td>431.023064</td>\n",
       "    </tr>\n",
       "    <tr>\n",
       "      <th>815535</th>\n",
       "      <td>2020-09-26 16:30:00</td>\n",
       "      <td>9</td>\n",
       "      <td>26</td>\n",
       "      <td>16</td>\n",
       "      <td>C_WTG01</td>\n",
       "      <td>2.981927</td>\n",
       "      <td>16.486589</td>\n",
       "      <td>22.673340</td>\n",
       "    </tr>\n",
       "    <tr>\n",
       "      <th>600978</th>\n",
       "      <td>2020-07-17 17:40:00</td>\n",
       "      <td>7</td>\n",
       "      <td>17</td>\n",
       "      <td>17</td>\n",
       "      <td>C_WTG01</td>\n",
       "      <td>3.696848</td>\n",
       "      <td>21.221244</td>\n",
       "      <td>73.544284</td>\n",
       "    </tr>\n",
       "    <tr>\n",
       "      <th>751359</th>\n",
       "      <td>2020-09-05 11:10:00</td>\n",
       "      <td>9</td>\n",
       "      <td>5</td>\n",
       "      <td>11</td>\n",
       "      <td>C_WTG01</td>\n",
       "      <td>7.433360</td>\n",
       "      <td>13.744645</td>\n",
       "      <td>950.906729</td>\n",
       "    </tr>\n",
       "    <tr>\n",
       "      <th>...</th>\n",
       "      <td>...</td>\n",
       "      <td>...</td>\n",
       "      <td>...</td>\n",
       "      <td>...</td>\n",
       "      <td>...</td>\n",
       "      <td>...</td>\n",
       "      <td>...</td>\n",
       "      <td>...</td>\n",
       "    </tr>\n",
       "    <tr>\n",
       "      <th>48845</th>\n",
       "      <td>2020-01-17 03:30:00</td>\n",
       "      <td>1</td>\n",
       "      <td>17</td>\n",
       "      <td>3</td>\n",
       "      <td>C_WTG21</td>\n",
       "      <td>5.888219</td>\n",
       "      <td>13.888784</td>\n",
       "      <td>562.047208</td>\n",
       "    </tr>\n",
       "    <tr>\n",
       "      <th>593165</th>\n",
       "      <td>2020-07-15 03:30:00</td>\n",
       "      <td>7</td>\n",
       "      <td>15</td>\n",
       "      <td>3</td>\n",
       "      <td>C_WTG21</td>\n",
       "      <td>4.657002</td>\n",
       "      <td>16.132754</td>\n",
       "      <td>210.426899</td>\n",
       "    </tr>\n",
       "    <tr>\n",
       "      <th>546713</th>\n",
       "      <td>2020-06-29 18:50:00</td>\n",
       "      <td>6</td>\n",
       "      <td>29</td>\n",
       "      <td>18</td>\n",
       "      <td>C_WTG21</td>\n",
       "      <td>10.369692</td>\n",
       "      <td>8.756958</td>\n",
       "      <td>1990.417444</td>\n",
       "    </tr>\n",
       "    <tr>\n",
       "      <th>861167</th>\n",
       "      <td>2020-10-11 18:30:00</td>\n",
       "      <td>10</td>\n",
       "      <td>11</td>\n",
       "      <td>18</td>\n",
       "      <td>C_WTG21</td>\n",
       "      <td>3.429893</td>\n",
       "      <td>12.941757</td>\n",
       "      <td>65.283786</td>\n",
       "    </tr>\n",
       "    <tr>\n",
       "      <th>1094603</th>\n",
       "      <td>2020-12-27 23:10:00</td>\n",
       "      <td>12</td>\n",
       "      <td>27</td>\n",
       "      <td>23</td>\n",
       "      <td>C_WTG21</td>\n",
       "      <td>5.180744</td>\n",
       "      <td>14.079952</td>\n",
       "      <td>253.003266</td>\n",
       "    </tr>\n",
       "  </tbody>\n",
       "</table>\n",
       "<p>210000 rows × 8 columns</p>\n",
       "</div>"
      ],
      "text/plain": [
       "                          ts  Month  Day  Hour instanceID  Wind_speed  \\\n",
       "395052   2020-05-10 15:20:00      5   10    15    C_WTG01    7.900000   \n",
       "489027   2020-06-10 17:10:00      6   10    17    C_WTG01    6.137338   \n",
       "815535   2020-09-26 16:30:00      9   26    16    C_WTG01    2.981927   \n",
       "600978   2020-07-17 17:40:00      7   17    17    C_WTG01    3.696848   \n",
       "751359   2020-09-05 11:10:00      9    5    11    C_WTG01    7.433360   \n",
       "...                      ...    ...  ...   ...        ...         ...   \n",
       "48845    2020-01-17 03:30:00      1   17     3    C_WTG21    5.888219   \n",
       "593165   2020-07-15 03:30:00      7   15     3    C_WTG21    4.657002   \n",
       "546713   2020-06-29 18:50:00      6   29    18    C_WTG21   10.369692   \n",
       "861167   2020-10-11 18:30:00     10   11    18    C_WTG21    3.429893   \n",
       "1094603  2020-12-27 23:10:00     12   27    23    C_WTG21    5.180744   \n",
       "\n",
       "                TI        Power  \n",
       "395052   24.246294  1161.069946  \n",
       "489027   11.976684   431.023064  \n",
       "815535   16.486589    22.673340  \n",
       "600978   21.221244    73.544284  \n",
       "751359   13.744645   950.906729  \n",
       "...            ...          ...  \n",
       "48845    13.888784   562.047208  \n",
       "593165   16.132754   210.426899  \n",
       "546713    8.756958  1990.417444  \n",
       "861167   12.941757    65.283786  \n",
       "1094603  14.079952   253.003266  \n",
       "\n",
       "[210000 rows x 8 columns]"
      ]
     },
     "execution_count": 7,
     "metadata": {},
     "output_type": "execute_result"
    }
   ],
   "source": [
    "data_train"
   ]
  },
  {
   "cell_type": "markdown",
   "metadata": {},
   "source": [
    "### Train"
   ]
  },
  {
   "cell_type": "code",
   "execution_count": 8,
   "metadata": {},
   "outputs": [],
   "source": [
    "tuned_forest = joblib.load(\"tuned_forest.pkl\")"
   ]
  },
  {
   "cell_type": "code",
   "execution_count": 9,
   "metadata": {},
   "outputs": [
    {
     "data": {
      "text/plain": [
       "{'max_depth': 10,\n",
       " 'n_estimators': 220,\n",
       " 'max_samples': 0.1003845683426459,\n",
       " 'random_state': 99}"
      ]
     },
     "execution_count": 9,
     "metadata": {},
     "output_type": "execute_result"
    }
   ],
   "source": [
    "tuned_forest"
   ]
  },
  {
   "cell_type": "code",
   "execution_count": 10,
   "metadata": {},
   "outputs": [
    {
     "data": {
      "text/html": [
       "<div>\n",
       "<style scoped>\n",
       "    .dataframe tbody tr th:only-of-type {\n",
       "        vertical-align: middle;\n",
       "    }\n",
       "\n",
       "    .dataframe tbody tr th {\n",
       "        vertical-align: top;\n",
       "    }\n",
       "\n",
       "    .dataframe thead th {\n",
       "        text-align: right;\n",
       "    }\n",
       "</style>\n",
       "<table border=\"1\" class=\"dataframe\">\n",
       "  <thead>\n",
       "    <tr style=\"text-align: right;\">\n",
       "      <th></th>\n",
       "      <th>Wind_speed</th>\n",
       "      <th>TI</th>\n",
       "    </tr>\n",
       "  </thead>\n",
       "  <tbody>\n",
       "    <tr>\n",
       "      <th>395052</th>\n",
       "      <td>7.900000</td>\n",
       "      <td>24.246294</td>\n",
       "    </tr>\n",
       "    <tr>\n",
       "      <th>489027</th>\n",
       "      <td>6.137338</td>\n",
       "      <td>11.976684</td>\n",
       "    </tr>\n",
       "    <tr>\n",
       "      <th>815535</th>\n",
       "      <td>2.981927</td>\n",
       "      <td>16.486589</td>\n",
       "    </tr>\n",
       "    <tr>\n",
       "      <th>600978</th>\n",
       "      <td>3.696848</td>\n",
       "      <td>21.221244</td>\n",
       "    </tr>\n",
       "    <tr>\n",
       "      <th>751359</th>\n",
       "      <td>7.433360</td>\n",
       "      <td>13.744645</td>\n",
       "    </tr>\n",
       "    <tr>\n",
       "      <th>...</th>\n",
       "      <td>...</td>\n",
       "      <td>...</td>\n",
       "    </tr>\n",
       "    <tr>\n",
       "      <th>48845</th>\n",
       "      <td>5.888219</td>\n",
       "      <td>13.888784</td>\n",
       "    </tr>\n",
       "    <tr>\n",
       "      <th>593165</th>\n",
       "      <td>4.657002</td>\n",
       "      <td>16.132754</td>\n",
       "    </tr>\n",
       "    <tr>\n",
       "      <th>546713</th>\n",
       "      <td>10.369692</td>\n",
       "      <td>8.756958</td>\n",
       "    </tr>\n",
       "    <tr>\n",
       "      <th>861167</th>\n",
       "      <td>3.429893</td>\n",
       "      <td>12.941757</td>\n",
       "    </tr>\n",
       "    <tr>\n",
       "      <th>1094603</th>\n",
       "      <td>5.180744</td>\n",
       "      <td>14.079952</td>\n",
       "    </tr>\n",
       "  </tbody>\n",
       "</table>\n",
       "<p>210000 rows × 2 columns</p>\n",
       "</div>"
      ],
      "text/plain": [
       "         Wind_speed         TI\n",
       "395052     7.900000  24.246294\n",
       "489027     6.137338  11.976684\n",
       "815535     2.981927  16.486589\n",
       "600978     3.696848  21.221244\n",
       "751359     7.433360  13.744645\n",
       "...             ...        ...\n",
       "48845      5.888219  13.888784\n",
       "593165     4.657002  16.132754\n",
       "546713    10.369692   8.756958\n",
       "861167     3.429893  12.941757\n",
       "1094603    5.180744  14.079952\n",
       "\n",
       "[210000 rows x 2 columns]"
      ]
     },
     "execution_count": 10,
     "metadata": {},
     "output_type": "execute_result"
    }
   ],
   "source": [
    "data_train.iloc[:, 5:-1]"
   ]
  },
  {
   "cell_type": "code",
   "execution_count": 11,
   "metadata": {},
   "outputs": [
    {
     "name": "stdout",
     "output_type": "stream",
     "text": [
      "Done C_WTG01\n",
      "Done C_WTG02\n",
      "Done C_WTG03\n",
      "Done C_WTG04\n",
      "Done C_WTG05\n",
      "Done C_WTG06\n",
      "Done C_WTG07\n",
      "Done C_WTG08\n",
      "Done C_WTG09\n",
      "Done C_WTG10\n",
      "Done C_WTG11\n",
      "Done C_WTG12\n",
      "Done C_WTG13\n",
      "Done C_WTG14\n",
      "Done C_WTG15\n",
      "Done C_WTG16\n",
      "Done C_WTG17\n",
      "Done C_WTG18\n",
      "Done C_WTG19\n",
      "Done C_WTG20\n",
      "Done C_WTG21\n",
      "Wall time: 12.9 s\n"
     ]
    }
   ],
   "source": [
    "%%time\n",
    "#################################################### training ######################################################### \n",
    "\n",
    "turbines = data_train.instanceID.unique()\n",
    "forest_all = {}\n",
    "\n",
    "\n",
    "for ID in turbines:\n",
    "    \n",
    "    # select data based on turbine ID\n",
    "    data_temp = data_train[data_train['instanceID'] == ID]\n",
    "\n",
    "    # separate X and y\n",
    "    X = data_temp.iloc[:, 5:-1]\n",
    "    y = data_temp.iloc[:, -1]\n",
    "    \n",
    "    \n",
    "    # train\n",
    "    temp_forest = RandomForestRegressor(max_depth=tuned_forest[\"max_depth\"], max_samples=tuned_forest[\"max_samples\"],\n",
    "                      n_estimators=tuned_forest[\"n_estimators\"], n_jobs=-1, oob_score=True,\n",
    "                      random_state=99)\n",
    "    temp_forest.fit(X, y)\n",
    "                                          \n",
    "    forest_all[ID] = temp_forest\n",
    "    \n",
    "    print('Done', ID)\n",
    "    "
   ]
  },
  {
   "cell_type": "markdown",
   "metadata": {},
   "source": [
    "### Save models"
   ]
  },
  {
   "cell_type": "code",
   "execution_count": 12,
   "metadata": {},
   "outputs": [
    {
     "data": {
      "text/plain": [
       "['forest_all.pkl']"
      ]
     },
     "execution_count": 12,
     "metadata": {},
     "output_type": "execute_result"
    }
   ],
   "source": [
    "# joblib.dump(forest_all, \"forest_all.pkl\")"
   ]
  },
  {
   "cell_type": "code",
   "execution_count": null,
   "metadata": {},
   "outputs": [],
   "source": []
  }
 ],
 "metadata": {
  "kernelspec": {
   "display_name": "Python 3",
   "language": "python",
   "name": "python3"
  },
  "language_info": {
   "codemirror_mode": {
    "name": "ipython",
    "version": 3
   },
   "file_extension": ".py",
   "mimetype": "text/x-python",
   "name": "python",
   "nbconvert_exporter": "python",
   "pygments_lexer": "ipython3",
   "version": "3.8.3"
  }
 },
 "nbformat": 4,
 "nbformat_minor": 4
}
