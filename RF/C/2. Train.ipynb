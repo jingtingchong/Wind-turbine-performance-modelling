{
 "cells": [
  {
   "cell_type": "code",
   "execution_count": 1,
   "metadata": {},
   "outputs": [],
   "source": [
    "import pandas as pd\n",
    "import os\n",
    "from sklearn.ensemble import RandomForestRegressor\n",
    "import pickle\n",
    "import sys"
   ]
  },
  {
   "cell_type": "code",
   "execution_count": 2,
   "metadata": {},
   "outputs": [],
   "source": [
    "site = 'C'"
   ]
  },
  {
   "cell_type": "code",
   "execution_count": 3,
   "metadata": {},
   "outputs": [],
   "source": [
    "# load the data\n",
    "# get parent directory\n",
    "os.chdir(\"../..\")\n",
    "data_directory = 'Data_clean'\n",
    "data_name = site + '_data_clean.csv'\n",
    "\n",
    "data_train = pd.read_csv(os.path.join(os.getcwd(), data_directory, data_name), index_col = 0)\n",
    "\n",
    "# reset to current directory\n",
    "fd = sys.path[0]\n",
    "os.chdir(fd)"
   ]
  },
  {
   "cell_type": "markdown",
   "metadata": {},
   "source": [
    "### Train"
   ]
  },
  {
   "cell_type": "code",
   "execution_count": 4,
   "metadata": {},
   "outputs": [
    {
     "data": {
      "text/plain": [
       "RandomForestRegressor(max_depth=11, max_samples=0.18369281784919675,\n",
       "                      n_estimators=210, n_jobs=-1, random_state=99)"
      ]
     },
     "execution_count": 4,
     "metadata": {},
     "output_type": "execute_result"
    }
   ],
   "source": [
    "# load model with tuned hyperparameters \n",
    "tuned_forest = pickle.load(open(os.path.join(os.getcwd(), \"tuned_forest.pkl\"),'rb'))\n",
    "tuned_forest"
   ]
  },
  {
   "cell_type": "code",
   "execution_count": 5,
   "metadata": {
    "scrolled": true
   },
   "outputs": [
    {
     "name": "stdout",
     "output_type": "stream",
     "text": [
      "Done C_WTG02\n",
      "Done C_WTG04\n",
      "Done C_WTG05\n",
      "Done C_WTG06\n",
      "Done C_WTG07\n",
      "Done C_WTG08\n",
      "Done C_WTG09\n",
      "Done C_WTG12\n",
      "Done C_WTG13\n",
      "Done C_WTG17\n",
      "Done C_WTG16\n",
      "Done C_WTG21\n",
      "Done C_WTG10\n",
      "Done C_WTG11\n",
      "Done C_WTG01\n",
      "Done C_WTG18\n",
      "Done C_WTG19\n",
      "Done C_WTG14\n",
      "Done C_WTG15\n",
      "Done C_WTG20\n",
      "Done C_WTG03\n",
      "Wall time: 31.7 s\n"
     ]
    }
   ],
   "source": [
    "%%time\n",
    "#################################################### training ######################################################### \n",
    "\n",
    "turbines = data_train.instanceID.unique()\n",
    "forest_all = {}\n",
    "\n",
    "\n",
    "for ID in turbines:\n",
    "    \n",
    "    # select data based on turbine ID\n",
    "    data_temp = data_train[data_train['instanceID'] == ID]\n",
    "\n",
    "    # separate X and y\n",
    "    X = data_temp.iloc[:, 5:-1]\n",
    "    y = data_temp.iloc[:, -1]\n",
    "    \n",
    "    # train\n",
    "    temp_forest = RandomForestRegressor()\n",
    "    temp_forest.set_params(**tuned_forest.get_params())\n",
    "    # temp_forest = RandomForestRegressor(max_depth=11, max_samples=0.2,n_estimators=210, random_state=99, n_jobs=-1)\n",
    "    temp_forest.fit(X, y)\n",
    "                                          \n",
    "    forest_all[ID] = temp_forest\n",
    "    \n",
    "    print('Done', ID)\n",
    "    "
   ]
  },
  {
   "cell_type": "markdown",
   "metadata": {},
   "source": [
    "### Save models"
   ]
  },
  {
   "cell_type": "code",
   "execution_count": 6,
   "metadata": {},
   "outputs": [],
   "source": [
    "# save \n",
    "pickle.dump(forest_all, open(os.path.join(os.getcwd(), \"trained_forest.pkl\"),'wb'))"
   ]
  },
  {
   "cell_type": "code",
   "execution_count": null,
   "metadata": {},
   "outputs": [],
   "source": []
  }
 ],
 "metadata": {
  "interpreter": {
   "hash": "8fac594bfae6525c0c41b4041d2d72effa188cc8ead05f81b1fab2bb098927fb"
  },
  "kernelspec": {
   "display_name": "Python 3.8.3 64-bit ('base': conda)",
   "name": "python3"
  },
  "language_info": {
   "codemirror_mode": {
    "name": "ipython",
    "version": 3
   },
   "file_extension": ".py",
   "mimetype": "text/x-python",
   "name": "python",
   "nbconvert_exporter": "python",
   "pygments_lexer": "ipython3",
   "version": "3.8.3"
  }
 },
 "nbformat": 4,
 "nbformat_minor": 4
}
